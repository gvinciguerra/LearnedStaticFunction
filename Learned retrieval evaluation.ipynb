{
 "cells": [
  {
   "cell_type": "code",
   "execution_count": null,
   "id": "0d41b9d0",
   "metadata": {},
   "outputs": [],
   "source": [
    "!pip install dahuffman"
   ]
  },
  {
   "cell_type": "code",
   "execution_count": null,
   "id": "fa127b50",
   "metadata": {},
   "outputs": [],
   "source": [
    "from datasets import load_dataset\n",
    "\n",
    "# v177\n",
    "dataset = load_dataset(\"arxiv_dataset\", data_dir=\"datasets\", split=\"train\", trust_remote_code=True, verification_mode=\"no_checks\") \n",
    "\n",
    "def keep_first_arxiv_category(example):\n",
    "    example[\"category\"] = example[\"categories\"].split(' ', 1)[0]\n",
    "    return example\n",
    "\n",
    "dataset = dataset.map(keep_first_arxiv_category)\n",
    "#dataset = dataset.class_encode_column(\"category\")\n",
    "dataset = dataset.remove_columns([\"id\", \"submitter\", \"authors\", \"comments\", \"journal-ref\", \"doi\",\n",
    "                                  \"report-no\", \"categories\", \"license\", \"abstract\", \"update_date\"])\n",
    "dataset"
   ]
  },
  {
   "cell_type": "code",
   "execution_count": null,
   "id": "c17fc9fd",
   "metadata": {},
   "outputs": [],
   "source": [
    "from collections import Counter\n",
    "from dahuffman import HuffmanCodec\n",
    "\n",
    "frequencies = Counter(dataset[\"category\"])\n",
    "frequencies"
   ]
  },
  {
   "cell_type": "code",
   "execution_count": null,
   "id": "576aa44b",
   "metadata": {},
   "outputs": [],
   "source": [
    "codec = HuffmanCodec.from_frequencies(frequencies, eof=list(frequencies)[0])\n",
    "codec.print_code_table()"
   ]
  },
  {
   "cell_type": "code",
   "execution_count": null,
   "id": "d525776e",
   "metadata": {},
   "outputs": [],
   "source": [
    "from math import ceil, log2\n",
    "\n",
    "bit_sum = 0\n",
    "for symb, count in frequencies.items():\n",
    "    bit_length = codec._table[symb][0]\n",
    "    bit_sum += bit_length * count\n",
    "\n",
    "classes = len(frequencies.items())\n",
    "print('Classes:', classes)\n",
    "print('Packed bits/value:', ceil(log2(classes)))\n",
    "print('Huffman bits/value:', bit_sum / dataset.num_rows)"
   ]
  },
  {
   "cell_type": "code",
   "execution_count": null,
   "id": "e70a3dc2",
   "metadata": {},
   "outputs": [],
   "source": [
    "import pandas as pd\n",
    "\n",
    "df = pd.read_csv('arxiv_model/distilbert_arxiv_20240504-074557 outputs.csv')\n",
    "assert(len(df.columns[2:]) == classes)\n",
    "\n",
    "df"
   ]
  },
  {
   "cell_type": "code",
   "execution_count": null,
   "id": "db9e9512",
   "metadata": {},
   "outputs": [],
   "source": [
    "from tqdm import tqdm\n",
    "\n",
    "id2label = dict(zip(range(classes), df.columns[2:]))\n",
    "learned_bit_sum = 0\n",
    "correct_predictions = 0\n",
    "\n",
    "for i, row in tqdm(df.iterrows(), total=len(df)):\n",
    "    label_id = row['label']\n",
    "    label = id2label[label_id]\n",
    "\n",
    "    freqs = row.copy()\n",
    "    del freqs['example']\n",
    "    del freqs['label']\n",
    "\n",
    "    correct_predictions += 1 if label_id == freqs.values.argmax() else 0\n",
    "    row_codec = HuffmanCodec.from_frequencies(freqs, eof=list(frequencies)[0])\n",
    "    bit_length = row_codec._table[label][0]\n",
    "    learned_bit_sum += bit_length\n",
    "\n",
    "print('Overall accuracy:', correct_predictions / dataset.num_rows)\n",
    "print('Learned retrieval bits/value:', learned_bit_sum / dataset.num_rows)"
   ]
  },
  {
   "cell_type": "code",
   "execution_count": null,
   "id": "d87ab8cf",
   "metadata": {},
   "outputs": [],
   "source": []
  }
 ],
 "metadata": {
  "kernelspec": {
   "display_name": "Python 3 (ipykernel)",
   "language": "python",
   "name": "python3"
  },
  "language_info": {
   "codemirror_mode": {
    "name": "ipython",
    "version": 3
   },
   "file_extension": ".py",
   "mimetype": "text/x-python",
   "name": "python",
   "nbconvert_exporter": "python",
   "pygments_lexer": "ipython3",
   "version": "3.10.12"
  }
 },
 "nbformat": 4,
 "nbformat_minor": 5
}
